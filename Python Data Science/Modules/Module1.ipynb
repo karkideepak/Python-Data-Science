{
 "cells": [
  {
   "cell_type": "code",
   "execution_count": null,
   "id": "a5967cbf-9650-4b3e-aa38-561bd8c71d64",
   "metadata": {},
   "outputs": [],
   "source": [
    "# Module 1 - Python Basics"
   ]
  },
  {
   "cell_type": "code",
   "execution_count": 3,
   "id": "3221e845-20c4-4eff-895d-5b1a6acf45df",
   "metadata": {},
   "outputs": [
    {
     "name": "stdout",
     "output_type": "stream",
     "text": [
      "Hello\n",
      "World!\n"
     ]
    }
   ],
   "source": [
    "# Question 1\n",
    "print(\"Hello\\nWorld!\")"
   ]
  },
  {
   "cell_type": "code",
   "execution_count": 4,
   "id": "c6f9885d-6535-458e-b525-ab2e61a262d0",
   "metadata": {},
   "outputs": [],
   "source": [
    "# Question 2\n",
    "# print('Hello World!')"
   ]
  },
  {
   "cell_type": "code",
   "execution_count": null,
   "id": "abf7f658-be95-4594-86ac-9a6a46978d3f",
   "metadata": {},
   "outputs": [],
   "source": []
  },
  {
   "cell_type": "code",
   "execution_count": 6,
   "id": "203e8843-6f10-4725-9e9f-e361d9b341ff",
   "metadata": {},
   "outputs": [],
   "source": [
    "# Lesson : Types\n",
    "# type(11) - int can be positive or negate\n",
    "# type(21.213) - real numbers , float in betwwen the integers 0.1 \n",
    "# type(\"Hello\") - str\n",
    "# expression and data types\n",
    "\n",
    "# Type casteing\n",
    "# float(2) : 2.0\n",
    "# int('A') : error"
   ]
  },
  {
   "cell_type": "code",
   "execution_count": 14,
   "id": "0fb21a34-57c8-4893-9bb3-3a9e0b3a6d98",
   "metadata": {},
   "outputs": [
    {
     "data": {
      "text/plain": [
       "False"
      ]
     },
     "execution_count": 14,
     "metadata": {},
     "output_type": "execute_result"
    }
   ],
   "source": [
    "# Question 1\n",
    "int(1.0)\n",
    "\n",
    "# Question 2\n",
    "# convert the number 1 to boolean\n",
    "bool(1)\n",
    "bool(0)"
   ]
  },
  {
   "cell_type": "code",
   "execution_count": 16,
   "id": "436a22e6-efea-4dba-a32d-fea58fa8be33",
   "metadata": {},
   "outputs": [],
   "source": [
    "# Expresions and Variables\n",
    "# Basic operation arithmetic \n",
    "# operands are symbols and operatorts are the numbers\n",
    "\n",
    "# 25/5 5.0, 25//5= 5, 25//6 = 4\n",
    "\n",
    "# Variables to store values\n",
    "# my_variable = 1 \n",
    "# total_min = 43 + 42 + 57\n",
    "# total_hr = total_min/60"
   ]
  },
  {
   "cell_type": "code",
   "execution_count": 34,
   "id": "248520ac-74df-4125-b481-4e1e51ab8a32",
   "metadata": {},
   "outputs": [
    {
     "name": "stdout",
     "output_type": "stream",
     "text": [
      "Microsoft is a brand\n"
     ]
    }
   ],
   "source": [
    "# String Operations\n",
    "# can be accessed by using the index\n",
    "\n",
    "Name = \"Michael Jackson\"\n",
    "Name[0]\n",
    "Name[-14] \n",
    "Name [0:4]\n",
    "Name[8:]\n",
    "Name[::2]\n",
    "Name[0:5]\n",
    "Name[0:5:2] #slicing\n",
    "len(Name)\n",
    "\n",
    "Name = \"Microsoft\"\n",
    "Statement = Name + \" is a brand\"\n",
    "print(Statement)"
   ]
  },
  {
   "cell_type": "code",
   "execution_count": 44,
   "id": "9b722afe-fb28-4df6-98a3-d030372e7a05",
   "metadata": {},
   "outputs": [
    {
     "data": {
      "text/plain": [
       "'j'"
      ]
     },
     "execution_count": 44,
     "metadata": {},
     "output_type": "execute_result"
    }
   ],
   "source": [
    "# Tuples\n",
    "3 * \"Michael Jackson \"\n",
    "\n",
    "# Strings are immutable\n",
    "Name = \"jackson\"\n",
    "Name[0]\n",
    "# Name[0]=\"D\" # error immutable"
   ]
  },
  {
   "cell_type": "code",
   "execution_count": 54,
   "id": "15fd7f59-8482-41f2-a6e4-388c1919889b",
   "metadata": {},
   "outputs": [
    {
     "name": "stdout",
     "output_type": "stream",
     "text": [
      "1520.91\n",
      "THRILLER\n",
      "Moon rise in east\n"
     ]
    },
    {
     "data": {
      "text/plain": [
       "5"
      ]
     },
     "execution_count": 54,
     "metadata": {},
     "output_type": "execute_result"
    }
   ],
   "source": [
    "chase = 25+2.35+22+54.87+21.20+0.99+26+107+11.81+65+96.56+112.11+17.58+937.14+21.30\n",
    "print(chase)\n",
    "\n",
    "# Strings: escape sequences\n",
    "# \\ escape sequences\n",
    "# \\n - new line , \\t - tab ,\\\\ for one slash\n",
    "\n",
    "# Sequence method\n",
    "A = \"Thriller\"\n",
    "B = A.upper()\n",
    "print(B)\n",
    "\n",
    "A = \"Sun rise in east\"\n",
    "B = A.replace('Sun','Moon')\n",
    "print(B)\n",
    "\n",
    "# Find methods finds the substrings\n",
    "Name = \"Michael Jackson\"\n",
    "Name.find('el')"
   ]
  },
  {
   "cell_type": "code",
   "execution_count": 58,
   "id": "7436adc8-521e-4da6-b29f-618dfa9615eb",
   "metadata": {},
   "outputs": [
    {
     "data": {
      "text/plain": [
       "1"
      ]
     },
     "execution_count": 58,
     "metadata": {},
     "output_type": "execute_result"
    }
   ],
   "source": [
    "# Question 1\n",
    "Numbers = \"0123456\"\n",
    "Numbers[::2]\n",
    "\n",
    "\"0123456\".find('1')"
   ]
  },
  {
   "cell_type": "code",
   "execution_count": 67,
   "id": "ed96bac3-6b27-43de-b3f4-3bb2e807ff6f",
   "metadata": {},
   "outputs": [
    {
     "name": "stdout",
     "output_type": "stream",
     "text": [
      "Li\n",
      "0246\n",
      "HELLO\n"
     ]
    }
   ],
   "source": [
    "# Review\n",
    "# Question 1\n",
    "3 + 2 * 2\n",
    "\n",
    "# Question 2\n",
    "name = 'Lizz'\n",
    "print(name[0:2])\n",
    "\n",
    "# Question 3\n",
    "var = \"01234567\"\n",
    "print(var[::2])\n",
    "\n",
    "# Question 4\n",
    "'1' + '2'\n",
    "\n",
    "# Questin 5\n",
    "myvar = 'hello'\n",
    "cap_var = myvar.upper()\n",
    "print(cap_var)"
   ]
  },
  {
   "cell_type": "code",
   "execution_count": null,
   "id": "ac9774b9-1304-4540-b458-a60df864c961",
   "metadata": {},
   "outputs": [],
   "source": [
    "#"
   ]
  }
 ],
 "metadata": {
  "kernelspec": {
   "display_name": "Python 3 (ipykernel)",
   "language": "python",
   "name": "python3"
  },
  "language_info": {
   "codemirror_mode": {
    "name": "ipython",
    "version": 3
   },
   "file_extension": ".py",
   "mimetype": "text/x-python",
   "name": "python",
   "nbconvert_exporter": "python",
   "pygments_lexer": "ipython3",
   "version": "3.10.6"
  }
 },
 "nbformat": 4,
 "nbformat_minor": 5
}
