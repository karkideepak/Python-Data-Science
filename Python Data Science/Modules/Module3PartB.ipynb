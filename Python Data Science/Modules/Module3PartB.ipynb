{
 "cells": [
  {
   "cell_type": "code",
   "execution_count": 19,
   "id": "59285b2a-23d3-495b-9ffb-512ee513754c",
   "metadata": {},
   "outputs": [
    {
     "name": "stdout",
     "output_type": "stream",
     "text": [
      "range(10, 15)\n",
      "red\n",
      "yellow\n",
      "green\n",
      "purple\n",
      "blue\n",
      "red\n",
      "yellow\n",
      "green\n"
     ]
    }
   ],
   "source": [
    "# Module 3\n",
    "# Loops for, while\n",
    "\n",
    "a = range(3)\n",
    "b = range(10,15)\n",
    "print(b)\n",
    "# doesn't print out the lists in python > 2.7\n",
    "\n",
    "# for loops, will use on lists\n",
    "# replace square 0 with white square\n",
    "\n",
    "# for square 0 in squares, square 0 = white square\n",
    "# for square 2 in squares, square 2 = white square\n",
    "\n",
    "squares = ['red', 'yellow', 'green','purple','blue']\n",
    "for i in squares:\n",
    "    print (i)\n",
    "    \n",
    "for i in range(0,3):\n",
    "    print(squares[i])\n",
    "\n",
    "\n",
    "# for i, square in enumerate(squares):"
   ]
  },
  {
   "cell_type": "code",
   "execution_count": 25,
   "id": "4adde8a7-18fb-4a66-adc0-1f6c55e77f4b",
   "metadata": {},
   "outputs": [
    {
     "name": "stdin",
     "output_type": "stream",
     "text": [
      "Enter your name:  deep\n"
     ]
    },
    {
     "name": "stdout",
     "output_type": "stream",
     "text": [
      "Hello deep\n"
     ]
    }
   ],
   "source": [
    "# While loop\n",
    "#  the conditon stops are the condition is met\n",
    "\n",
    "squares = ['orange', 'apple', 'purple', 'blue']\n",
    "name = input(\"Enter your name: \")\n",
    "if name == \"\":\n",
    "    print(\"You didn't enter your name\")\n",
    "else:\n",
    "    print(f\"Hello {name}\")\n"
   ]
  },
  {
   "cell_type": "code",
   "execution_count": 23,
   "id": "37af4318-b5e0-47c0-b653-3781ce06a45c",
   "metadata": {},
   "outputs": [
    {
     "name": "stdout",
     "output_type": "stream",
     "text": [
      "3\n",
      "4\n",
      "5\n",
      "- - - - -\n",
      "1\n",
      "2\n"
     ]
    }
   ],
   "source": [
    "# Question 1\n",
    "A = [3,4,5]\n",
    "for a in A:\n",
    "    print(a)\n",
    "print(\"- - - - -\")\n",
    "# Question 2\n",
    "x=3\n",
    "y=1\n",
    "while(y!=x):\n",
    "    print(y)\n",
    "    y=y+1"
   ]
  },
  {
   "cell_type": "code",
   "execution_count": 31,
   "id": "7ee6fb19-4f8a-4897-8eca-d3bf4791de96",
   "metadata": {},
   "outputs": [],
   "source": [
    "# Functions\n",
    "# a piece code re use, import\n",
    "album_ratings = [4,3.6,2]\n",
    "len(album_ratings)\n",
    "sum(album_ratings)\n",
    "album_ratings = [4,3.6,2,3,1,2,8,5]\n",
    "# sort(album_ratings)"
   ]
  },
  {
   "cell_type": "code",
   "execution_count": 44,
   "id": "3fd834ca-1837-491a-95db-d6b5c42da837",
   "metadata": {},
   "outputs": [
    {
     "name": "stdout",
     "output_type": "stream",
     "text": [
      "Michael Jackson\n",
      "4  + 1 = 5\n",
      "Album 0 Rating is 10.0\n",
      "Album 1 Rating is 8.5\n",
      "Album 2 Rating is 9.5\n"
     ]
    }
   ],
   "source": [
    "def add1(a):\n",
    "    b = a+1\n",
    "    return b\n",
    "add1(5)\n",
    "\n",
    "\"\"\"\n",
    "Triple quotes for the comments\n",
    "\"\"\"\n",
    "\n",
    "# Multiple parameters\n",
    "def mult(a,b):\n",
    "    c=a*b\n",
    "    return c\n",
    "mult(2,3)\n",
    "mult(2,'MK') # can also mean repeated integers,\n",
    "\n",
    "def MJ():\n",
    "    print('Michael Jackson')\n",
    "    #pass to write the function later\n",
    "MJ()\n",
    "\n",
    "def add2(a):\n",
    "    b=a+1\n",
    "    print(a, \" + 1 =\", b)\n",
    "    return b\n",
    "add2(4)\n",
    "\n",
    "# Using loops in function\n",
    "def printStuff(Stuff):\n",
    "    for i,s in enumerate(Stuff):\n",
    "        print(\"Album\", i, \"Rating is\",s)\n",
    "album_ratings = [10.0, 8.5, 9.5]\n",
    "printStuff(album_ratings)\n"
   ]
  },
  {
   "cell_type": "code",
   "execution_count": 50,
   "id": "83ee23c6-0564-47bc-becf-505597ae8210",
   "metadata": {},
   "outputs": [
    {
     "name": "stdout",
     "output_type": "stream",
     "text": [
      "Deepak\n",
      "Sajjan\n",
      "Jeena\n"
     ]
    }
   ],
   "source": [
    "\"\"\"\n",
    "Collecting arguments\n",
    "\"\"\"\n",
    "def ArtistNames(*names):\n",
    "    for name in names:\n",
    "        print(name)\n",
    "\n",
    "ArtistNames('Deepak', 'Sajjan', 'Jeena')\n",
    "\n",
    "# Global Scope\n",
    "def AddDC(y):\n",
    "    x=x+'DC'\n",
    "    print(x)\n",
    "    return(x)\n",
    "x='AC'\n",
    "#z=AddDC(x)"
   ]
  },
  {
   "cell_type": "code",
   "execution_count": 54,
   "id": "fd65cd79-9f29-4fff-bcb3-a399b8f3f648",
   "metadata": {},
   "outputs": [
    {
     "data": {
      "text/plain": [
       "9"
      ]
     },
     "execution_count": 54,
     "metadata": {},
     "output_type": "execute_result"
    }
   ],
   "source": [
    "# Question 1\n",
    "a=1\n",
    "def add(b):\n",
    "    return a+b\n",
    "c=add(10)\n",
    "\n",
    "# Question 2\n",
    "def f(*x):\n",
    "    return sum(x)\n",
    "\n",
    "f(2,3,4)\n",
    "    "
   ]
  },
  {
   "cell_type": "code",
   "execution_count": 69,
   "id": "a954c780-d9b7-4376-94a6-50d769e23d83",
   "metadata": {},
   "outputs": [],
   "source": [
    "\"\"\"\n",
    "Objects and classess\n",
    "\"\"\"\n",
    "# Data Types: int, float, string, list , dict, bool\n",
    "# each is an object, has a type, data representation, methods,\n",
    "# object beloning to in instances\n",
    "\n",
    "type((1,2,3))\n",
    "type([a,b,c])\n",
    "\n",
    "# a class or type's method are functions that every instace of that class or type provides\n",
    "# its how you interact with data in a object\n",
    "\n",
    "Ratings=[10,4,1,3.5,6,2]\n",
    "Ratings.sort()\n",
    "Ratings.reverse()\n",
    "\n",
    "# Creating a class data attributees, methods, \n",
    "\n",
    "class Circle(object):\n",
    "    def __init__(self,radius,color):\n",
    "        self.radius=radius\n",
    "        self.color=color\n",
    "\"\"\"\n",
    "    def add_radius(self, r):\n",
    "        self.radius=self.radius+\n",
    "        return(self.radius)\n",
    "\n",
    "    def calculate(self):\n",
    "        return (3.14*self.radius**2)\n",
    "\"\"\"\n",
    "\n",
    "C1 = Circle(10,'red')\n",
    "\n",
    "class Rectangle(object):\n",
    "    def __init__(self,height,width,color):\n",
    "        self.height=height\n",
    "        self.width=width\n",
    "        self.color=color\n",
    "        \n",
    "    def calcualte(self):\n",
    "        return(self.height*self.width)\n",
    "\n",
    "R1=Rectangle(2,4,'White')"
   ]
  },
  {
   "cell_type": "code",
   "execution_count": 78,
   "id": "2e23f837-6b14-40a6-8fde-b0993228d904",
   "metadata": {},
   "outputs": [
    {
     "data": {
      "text/plain": [
       "('Honda', 'Accord', 'blue')"
      ]
     },
     "execution_count": 78,
     "metadata": {},
     "output_type": "execute_result"
    }
   ],
   "source": [
    "# Question 1\n",
    "\n",
    "class Car(object):\n",
    "    def __init__(self,make,model,color):\n",
    "        self.make=make\n",
    "        self.model=model\n",
    "        self.color=color\n",
    "\n",
    "    def car_info(self):\n",
    "        return (self.make, self.model, self.color)\n",
    "\n",
    "a=Car('Honda','Accord','blue')\n",
    "a.car_info()"
   ]
  },
  {
   "cell_type": "code",
   "execution_count": 82,
   "id": "866b078b-dcfa-4d9c-8702-2d4c1abe445b",
   "metadata": {},
   "outputs": [
    {
     "name": "stdout",
     "output_type": "stream",
     "text": [
      "Hi\n",
      "Mike\n",
      "11\n",
      "22\n",
      "33\n"
     ]
    }
   ],
   "source": [
    "# Review Question\n",
    "# Question 1\n",
    "x=1\n",
    "if(x!=1):\n",
    "    print('Hello')\n",
    "else:\n",
    "    print('Hi')\n",
    "print('Mike')\n",
    "\n",
    "# Question 2\n",
    "A=['1','2','3']\n",
    "for a in A:\n",
    "    print(2*a)\n",
    "\n",
    "# Question 3\n",
    "def Delta(x):\n",
    "    if x==0:\n",
    "        y=1\n",
    "    else:\n",
    "        y=0\n",
    "    return(y)\n",
    "# when the input is 0\n",
    "\n",
    "# Question 4\n",
    "B=[5,2,1,6,9]\n",
    "B.sort()\n",
    "\n",
    "# Question 5\n",
    "{'a':1,'b':2}"
   ]
  },
  {
   "cell_type": "code",
   "execution_count": null,
   "id": "3b82211b-7f22-4f92-bf09-0ab389f23053",
   "metadata": {},
   "outputs": [],
   "source": []
  }
 ],
 "metadata": {
  "kernelspec": {
   "display_name": "Python 3 (ipykernel)",
   "language": "python",
   "name": "python3"
  },
  "language_info": {
   "codemirror_mode": {
    "name": "ipython",
    "version": 3
   },
   "file_extension": ".py",
   "mimetype": "text/x-python",
   "name": "python",
   "nbconvert_exporter": "python",
   "pygments_lexer": "ipython3",
   "version": "3.10.6"
  }
 },
 "nbformat": 4,
 "nbformat_minor": 5
}
