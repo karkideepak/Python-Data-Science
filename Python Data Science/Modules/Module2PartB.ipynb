{
 "cells": [
  {
   "cell_type": "code",
   "execution_count": null,
   "id": "7c81d38a-39d0-4523-80fb-6d0d9137c30d",
   "metadata": {},
   "outputs": [],
   "source": [
    "# Dictionaries - are type of collection\n",
    "# key & values,\n",
    "# use {}, keys have to unique and immutable\n",
    "# values can be mutable/ immutable/ dulicates"
   ]
  },
  {
   "cell_type": "code",
   "execution_count": 15,
   "id": "9713f5d7-8628-4d8a-8832-0ad7d063c738",
   "metadata": {},
   "outputs": [
    {
     "name": "stdout",
     "output_type": "stream",
     "text": [
      "{'Thriller': 2001, 'Action': 2002}\n"
     ]
    },
    {
     "data": {
      "text/plain": [
       "dict_values([2001, 2002])"
      ]
     },
     "execution_count": 15,
     "metadata": {},
     "output_type": "execute_result"
    }
   ],
   "source": [
    "# {\"key1\":1,\"key2:\"2\",\"key3\":[3,3,3],\"key4\":(4,4,4),('key5'):5}\n",
    "# \"Thriller\":1992\n",
    "Dict = {'Thriller':2001, 'Action':2002}\n",
    "Dict['Romantic']:'2004'\n",
    "Dict['Color']:'Red'\n",
    "print(Dict)\n",
    "# del(Dict['Color'])\n",
    "'Romantic' in Dict\n",
    "\n",
    "Dict.keys()\n",
    "Dict.values()"
   ]
  },
  {
   "cell_type": "code",
   "execution_count": 18,
   "id": "e27e4dcf-4bfa-4187-b0ee-9ac68e204186",
   "metadata": {},
   "outputs": [
    {
     "data": {
      "text/plain": [
       "1"
      ]
     },
     "execution_count": 18,
     "metadata": {},
     "output_type": "execute_result"
    }
   ],
   "source": [
    "# Question 1\n",
    "D = {'a':0, 'b':1, 'c':2}\n",
    "D.values()\n",
    "\n",
    "D['b']"
   ]
  },
  {
   "cell_type": "code",
   "execution_count": 27,
   "id": "eef0db8e-e5a8-415f-8935-0e3e7b0f3e3e",
   "metadata": {},
   "outputs": [
    {
     "name": "stdout",
     "output_type": "stream",
     "text": [
      "['1', 'c', ['a', 'b']]\n",
      "{'A': 1, 'B': 2, 'C': [3, 3, 3], 'D': (4, 4, 4), 'E': 5, 'F': 6}\n"
     ]
    },
    {
     "data": {
      "text/plain": [
       "'Lists are mutable, tuples are not'"
      ]
     },
     "execution_count": 27,
     "metadata": {},
     "output_type": "execute_result"
    }
   ],
   "source": [
    "# Review Question\n",
    "# Question 1\n",
    "A = ('a', 'b', 'c')\n",
    "A[0]\n",
    "\n",
    "# Question 2\n",
    "L = ['1','c']\n",
    "L.append(['a', 'b'])\n",
    "print(L)\n",
    "\n",
    "# Question 3\n",
    "\"0, you can only have one unique element in a set\"\n",
    "\n",
    "# Question 4\n",
    "Dict = {\"A\":1, \"B\":2, \"C\":[3,3,3], \"D\":(4,4,4), 'E':5, 'F':6}\n",
    "Dict[\"D\"]\n",
    "Dict[\"color\"]:\"red\"\n",
    "# del(Dict[\"color\"])\n",
    "print(Dict)\n",
    "\n",
    "# Question 5\n",
    "\"Lists are mutable, tuples are not\""
   ]
  },
  {
   "cell_type": "code",
   "execution_count": null,
   "id": "ed3a2a35-6963-4d26-bfb1-68c0131dc1a7",
   "metadata": {},
   "outputs": [],
   "source": []
  }
 ],
 "metadata": {
  "kernelspec": {
   "display_name": "Python 3 (ipykernel)",
   "language": "python",
   "name": "python3"
  },
  "language_info": {
   "codemirror_mode": {
    "name": "ipython",
    "version": 3
   },
   "file_extension": ".py",
   "mimetype": "text/x-python",
   "name": "python",
   "nbconvert_exporter": "python",
   "pygments_lexer": "ipython3",
   "version": "3.10.6"
  }
 },
 "nbformat": 4,
 "nbformat_minor": 5
}
