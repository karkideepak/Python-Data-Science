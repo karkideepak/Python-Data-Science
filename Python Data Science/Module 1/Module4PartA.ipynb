{
 "cells": [
  {
   "cell_type": "code",
   "execution_count": 4,
   "id": "d905e7c0-ddbe-4a6a-85f3-174aa90be8b8",
   "metadata": {},
   "outputs": [
    {
     "ename": "SyntaxError",
     "evalue": "incomplete input (388001653.py, line 1)",
     "output_type": "error",
     "traceback": [
      "\u001b[0;36m  Cell \u001b[0;32mIn[4], line 1\u001b[0;36m\u001b[0m\n\u001b[0;31m    \"\"\"\u001b[0m\n\u001b[0m    ^\u001b[0m\n\u001b[0;31mSyntaxError\u001b[0m\u001b[0;31m:\u001b[0m incomplete input\n"
     ]
    }
   ],
   "source": [
    "\"\"\"\n",
    "Module 4 \n",
    "Reading files with open\n",
    "Writing files with open \n",
    "Loadind data with Pandas\n",
    "Working with and saving data with Pandas\n",
    "\n",
    "\n",
    "# File Object\n",
    "file1=open(\"/resources/data/example2.txt\",\"w\")\n",
    "write, reading, appending, \n",
    "file1.name\n",
    "file1.mode\n",
    "file1.close\n",
    "\n",
    "with open(\"Example1.txt\",\"r\") as file1:\n",
    "    file_stuff=File1.read()\n",
    "    print(file_stuff)\n",
    "print(File1.closed)\n",
    "print(file_stuff)\n",
    "\n",
    "file_stuff=File1.readline()\n",
    "print(file_stuff)\n",
    "file_stuff=File1.readline()\n",
    "print(file_stuff)\n",
    "\n",
    "with open(\"Example1.txt\", \"r\") as File1:\n",
    "    for line in File1:\n",
    "        print(line)\n",
    "\n",
    "file_stuff=file1.readlines(4)\n",
    "\n",
    "# this read the first four characters\n",
    "with open (\"Wxample1.txt\", r) as readfile:\n",
    "    with open (\"Example2.txt\", \"w\") as writefile:\n",
    "        for line in readfiles:\n",
    "            writefile.write(line)\n",
    "\"\"\""
   ]
  },
  {
   "cell_type": "code",
   "execution_count": null,
   "id": "9007e207-5934-49ae-a9e1-6fa4c4152082",
   "metadata": {},
   "outputs": [],
   "source": [
    "\"\"\"\n",
    "Writing files with open\n",
    "File1.write(\"This is a file\")\n",
    "File1=open(\"/resource/data/example2.txt\", \"w\")\n",
    "\n",
    "with open(\"/../\") as File1:\n",
    "    File1.write(\"Text\\n\")\n",
    "    File1.write(\"Text line 2\\n\")\n",
    "\n",
    "Lines=[\"This is lineA\\n\",\"LineB\\n\",\"LineC\"]\n",
    "for lines in lines:\n",
    "    File1.write(line)\n",
    "\n",
    "with open(\"/resource/data/ex2\") as File1:\n",
    "    File1.write(\"This is line C\")\n",
    "\"\"\""
   ]
  },
  {
   "cell_type": "code",
   "execution_count": null,
   "id": "361fb59b-f6ab-41f5-bea4-eeda77bbc791",
   "metadata": {},
   "outputs": [],
   "source": []
  }
 ],
 "metadata": {
  "kernelspec": {
   "display_name": "Python 3 (ipykernel)",
   "language": "python",
   "name": "python3"
  },
  "language_info": {
   "codemirror_mode": {
    "name": "ipython",
    "version": 3
   },
   "file_extension": ".py",
   "mimetype": "text/x-python",
   "name": "python",
   "nbconvert_exporter": "python",
   "pygments_lexer": "ipython3",
   "version": "3.10.6"
  }
 },
 "nbformat": 4,
 "nbformat_minor": 5
}
