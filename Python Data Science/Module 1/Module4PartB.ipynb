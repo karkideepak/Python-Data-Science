{
 "cells": [
  {
   "cell_type": "code",
   "execution_count": 2,
   "id": "da37d83a-5569-4288-9745-37e89440cc46",
   "metadata": {},
   "outputs": [],
   "source": [
    "\"\"\"\n",
    "import pandas as pd\n",
    "csv_path='file1.csv'\n",
    "df=pd.read_csv(csv_path)\n",
    "df.head() #first 5 rows of the dataframe\n",
    "\"\"\"\n",
    "\n",
    "songs={'Album':['Thriller', 'Black in Black', 'The Dark'], 'Realesed':\\\n",
    "      [1982, 2000, 2020], 'Length':[\"2:05\",\"5:00\",\"1:20\"]}\n",
    "\n",
    "x=df[['length']]\n",
    "y=df[['Artist','Length','Genre']]\n",
    "df.ix[0,0]:'MK'\n",
    "\n",
    "\n"
   ]
  },
  {
   "cell_type": "code",
   "execution_count": null,
   "id": "26e7f4a3-4fd9-45d0-821c-4c4c1d221e3b",
   "metadata": {},
   "outputs": [],
   "source": [
    "# Question 1\n",
    "df.ix[1,0] or df.iloc[1,0]\n",
    "\n",
    "# Question 2\n",
    "import pandas as banana\n",
    "df=banana.DataFrame({'a':[11,21,31],'b':[21,22,23]})\n",
    "df.head() #valid"
   ]
  },
  {
   "cell_type": "code",
   "execution_count": 4,
   "id": "3988325e-143d-43b9-9f7d-1942a3600a7c",
   "metadata": {},
   "outputs": [
    {
     "ename": "NameError",
     "evalue": "name 'pd' is not defined",
     "output_type": "error",
     "traceback": [
      "\u001b[0;31m---------------------------------------------------------------------------\u001b[0m",
      "\u001b[0;31mNameError\u001b[0m                                 Traceback (most recent call last)",
      "Cell \u001b[0;32mIn[4], line 2\u001b[0m\n\u001b[1;32m      1\u001b[0m \u001b[38;5;66;03m# Question 1\u001b[39;00m\n\u001b[0;32m----> 2\u001b[0m df\u001b[38;5;241m=\u001b[39m\u001b[43mpd\u001b[49m\u001b[38;5;241m.\u001b[39mDataFrame({\u001b[38;5;124m'\u001b[39m\u001b[38;5;124ma\u001b[39m\u001b[38;5;124m'\u001b[39m:[\u001b[38;5;241m1\u001b[39m,\u001b[38;5;241m2\u001b[39m,\u001b[38;5;241m1\u001b[39m],\u001b[38;5;124m'\u001b[39m\u001b[38;5;124mb\u001b[39m\u001b[38;5;124m'\u001b[39m:[\u001b[38;5;241m1\u001b[39m,\u001b[38;5;241m1\u001b[39m,\u001b[38;5;241m1\u001b[39m]})\n\u001b[1;32m      3\u001b[0m df[\u001b[38;5;124m'\u001b[39m\u001b[38;5;124ma\u001b[39m\u001b[38;5;124m'\u001b[39m]\u001b[38;5;241m==\u001b[39m\u001b[38;5;241m1\u001b[39m\n",
      "\u001b[0;31mNameError\u001b[0m: name 'pd' is not defined"
     ]
    }
   ],
   "source": [
    "# Question 1\n",
    "df=pd.DataFrame({'a':[1,2,1],'b':[1,1,1]})\n",
    "df['a']==1\n",
    "# bool\n",
    "\n",
    "# Question \n",
    "# save a dataframe to a csv file\n",
    "df.to_csv(\"file.csv\")\n"
   ]
  },
  {
   "cell_type": "code",
   "execution_count": 5,
   "id": "a7a919b5-a6f7-470a-acf8-28dca7a9e5b4",
   "metadata": {},
   "outputs": [],
   "source": [
    "# Review Question\n",
    "with open(\"Example1.txt\",\"r\") as file1:\n",
    "\n",
    "    FileContent=file1.readlines()\n",
    "\n",
    "    print(FileContent)"
   ]
  },
  {
   "cell_type": "code",
   "execution_count": null,
   "id": "5eeb03d8-a6b9-4ab6-b2a2-585b32b12f5f",
   "metadata": {},
   "outputs": [],
   "source": []
  }
 ],
 "metadata": {
  "kernelspec": {
   "display_name": "Python 3 (ipykernel)",
   "language": "python",
   "name": "python3"
  },
  "language_info": {
   "codemirror_mode": {
    "name": "ipython",
    "version": 3
   },
   "file_extension": ".py",
   "mimetype": "text/x-python",
   "name": "python",
   "nbconvert_exporter": "python",
   "pygments_lexer": "ipython3",
   "version": "3.10.6"
  }
 },
 "nbformat": 4,
 "nbformat_minor": 5
}
