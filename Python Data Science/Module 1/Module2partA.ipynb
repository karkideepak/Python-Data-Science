{
 "cells": [
  {
   "cell_type": "code",
   "execution_count": 1,
   "id": "a1ad7177-1814-44a4-bff6-b51c07af0278",
   "metadata": {},
   "outputs": [],
   "source": [
    "# Module 2\n",
    "# Lists and Tuples , Sets, Dictionaries\n",
    "# Tuples are an ordered sequence"
   ]
  },
  {
   "cell_type": "code",
   "execution_count": 5,
   "id": "e9afbacb-4a66-4696-a29c-cf90a9385ebf",
   "metadata": {},
   "outputs": [
    {
     "name": "stdout",
     "output_type": "stream",
     "text": [
      "('disco', 10, 7.2, 'red', 1)\n"
     ]
    },
    {
     "data": {
      "text/plain": [
       "('red', 1)"
      ]
     },
     "execution_count": 5,
     "metadata": {},
     "output_type": "execute_result"
    }
   ],
   "source": [
    "tuple1 = (\"disco\", 10, 7.2)\n",
    "tuple2 = tuple1 + (\"red\", 1)\n",
    "print(tuple2)\n",
    "\n",
    "# slicing \n",
    "tuple2[0:3]\n",
    "tuple2[3:]"
   ]
  },
  {
   "cell_type": "code",
   "execution_count": 7,
   "id": "ad8b976e-18e2-4f3a-9fc4-65acc5b5f008",
   "metadata": {},
   "outputs": [
    {
     "name": "stdout",
     "output_type": "stream",
     "text": [
      "(10, 9, 6, 5, 10, 8, 9, 6, 2)\n"
     ]
    }
   ],
   "source": [
    "# Tuples are immutable\n",
    "Ratings = (10,9,6,5,10,8,9,6,2)\n",
    "Ratings1 = Ratings\n",
    "print(Ratings)\n",
    "\n",
    "# to manupulate a tuple you need to create a new tuple"
   ]
  },
  {
   "cell_type": "code",
   "execution_count": 15,
   "id": "35237ac0-018a-46a3-afb1-ac073d33f21b",
   "metadata": {},
   "outputs": [
    {
     "name": "stdout",
     "output_type": "stream",
     "text": [
      "[2, 5, 6, 6, 8, 9, 9, 10, 10]\n",
      "rock\n"
     ]
    }
   ],
   "source": [
    "RatingsSorted = sorted(Ratings)\n",
    "print(RatingsSorted)\n",
    "\n",
    "# A tuple can contain other tuples as well\n",
    "NT = (1,2,('pop', 'rock'),(3,4),('disco',(1,2)))\n",
    "print(NT[2][1])"
   ]
  },
  {
   "cell_type": "code",
   "execution_count": 26,
   "id": "ea562b6d-e0ae-41f1-ad9d-44390db365d0",
   "metadata": {},
   "outputs": [
    {
     "name": "stdout",
     "output_type": "stream",
     "text": [
      "[1994, 'MJ']\n",
      "['MJ', 8090]\n",
      "['MJ', 12, 1992, 'pop', 10]\n",
      "['MJ', 12, 1992, 'pop', 10, ['MN', 'USA']]\n",
      "['MJ', 12, 1992, 'pop', 10, ['MN', 'USA'], 'END']\n"
     ]
    }
   ],
   "source": [
    "# Lists are ordered sequences, list are mutable\n",
    "# can contain string, int, float\n",
    "# elements can be accesed by index\n",
    "\n",
    "L = [\"Mike Jackson\", 12, 1994, \"MJ\", 8090]\n",
    "print(L[2:4])\n",
    "\n",
    "# indexing for tupes and lists are identical\n",
    "print(L[3:5])\n",
    "\n",
    "# Lists are mutable,\n",
    "L1 =[\"MJ\", 12, 1992]\n",
    "L1.extend([\"pop\",10]) # adds multiple elements to the lists\n",
    "print(L1)\n",
    "L1.append([\"MN\", \"USA\"]) # only adds one more element to the index\n",
    "print(L1)\n",
    "\n",
    "L1.append(\"END\")\n",
    "print(L1)"
   ]
  },
  {
   "cell_type": "code",
   "execution_count": 32,
   "id": "26ee2986-1dd2-4b99-b902-99e88da94c5c",
   "metadata": {},
   "outputs": [
    {
     "name": "stdout",
     "output_type": "stream",
     "text": [
      "['India', 'USA', 'None']\n",
      "['India', 'USA']\n",
      "['Deepak']\n"
     ]
    }
   ],
   "source": [
    "A = ['Nepal', 'USA', 'None']\n",
    "A[0] = \"India\"\n",
    "print(A)\n",
    "del(A[2])\n",
    "print(A)\n",
    "Name = [\"Deepak\"]\n",
    "\"Name\".split(\" \")\n",
    "print(Name)\n",
    "\n",
    "# Aliasing referring to same values"
   ]
  },
  {
   "cell_type": "code",
   "execution_count": 37,
   "id": "b1cbe7de-5d35-4cc1-a297-4db5b7562b0b",
   "metadata": {},
   "outputs": [
    {
     "name": "stdout",
     "output_type": "stream",
     "text": [
      "3\n",
      "3\n",
      "['b', 'c']\n"
     ]
    }
   ],
   "source": [
    "# Question 1\n",
    "A = (0,1,2,3)\n",
    "print(A[3])\n",
    "print(A[-1])\n",
    "\n",
    "# Question 2\n",
    "B = [\"a\", \"b\", \"c\"]\n",
    "print(B[1:])"
   ]
  },
  {
   "cell_type": "code",
   "execution_count": 41,
   "id": "583b402e-6885-42dd-9091-06b0f53ca516",
   "metadata": {},
   "outputs": [
    {
     "name": "stdout",
     "output_type": "stream",
     "text": [
      "{'R&B', 'pop', 'soul', 'hard rock', 'rock'}\n",
      "['MK', 2001, 'MK']\n",
      "{2001, 'MK'}\n"
     ]
    }
   ],
   "source": [
    "# Sets \n",
    "# sets are type of collection, input different types\n",
    "# sets are unordered, no index\n",
    "# only one particular unique value elements\n",
    "\n",
    "Set1 = {\"pop\",\"rock\", \"soul\", \"hard rock\", \"R&B\", \"rock\", \"pop\"}\n",
    "print(Set1)\n",
    "\n",
    "# convert list to set , type casting\n",
    "album_list = [\"MK\", 2001, \"MK\"]\n",
    "print(album_list)\n",
    "album_set = set(album_list)\n",
    "print(album_set)"
   ]
  },
  {
   "cell_type": "code",
   "execution_count": 49,
   "id": "f9db2225-17cc-49ea-8e1e-4d8e6a080173",
   "metadata": {},
   "outputs": [
    {
     "name": "stdout",
     "output_type": "stream",
     "text": [
      "{'AC/DC', 'Thriller', 'Award', 'Black in Black'}\n",
      "{'AC/DC', 'Thriller', 'Award'}\n",
      "{1, 'red'}\n"
     ]
    },
    {
     "data": {
      "text/plain": [
       "True"
      ]
     },
     "execution_count": 49,
     "metadata": {},
     "output_type": "execute_result"
    }
   ],
   "source": [
    "# Set operations\n",
    "A = {\"Thriller\", \"Black in Black\", \"AC/DC\"}\n",
    "A.add(\"Award\")\n",
    "print(A)\n",
    "     \n",
    "A.remove('Black in Black')\n",
    "print(A)\n",
    "\"AC/DC\" in A \n",
    "\n",
    "# Mathematical set of operations\n",
    "set1 = {\"A\", \"B\", \"C\", \"red\", 1}\n",
    "set2 = {1,2,3,\"red\"}\n",
    "set3 = set1 & set2 \n",
    "print(set3)\n",
    "\n",
    "set1.union(set2)\n",
    "\n",
    "# Check if the set is a subset \n",
    "album1 = {\"AC/DC\",\"Black\", \"Thriller\"}\n",
    "album2 = {\"AC/DC\", \"Black\"}\n",
    "album2.issubset(album1)\n",
    "      "
   ]
  },
  {
   "cell_type": "code",
   "execution_count": 51,
   "id": "83ff9213-70f5-40e2-b9b1-88ef8acd98fb",
   "metadata": {},
   "outputs": [
    {
     "name": "stdout",
     "output_type": "stream",
     "text": [
      "{'C', 'A'}\n"
     ]
    }
   ],
   "source": [
    "# Question 1\n",
    "s={\"A\",\"B\",\"C\"}\n",
    "u={\"A\",\"Z\",\"C\"}\n",
    "u.union(s)\n",
    "\n",
    "# Question 2\n",
    "s={\"A\",\"B\",\"C\"}\n",
    "u={\"A\",\"Z\",\"C\"}\n",
    "z=s&u\n",
    "print(z)"
   ]
  },
  {
   "cell_type": "code",
   "execution_count": null,
   "id": "049c3bb9-fd99-4ea9-abed-c3321a8897c9",
   "metadata": {},
   "outputs": [],
   "source": []
  }
 ],
 "metadata": {
  "kernelspec": {
   "display_name": "Python 3 (ipykernel)",
   "language": "python",
   "name": "python3"
  },
  "language_info": {
   "codemirror_mode": {
    "name": "ipython",
    "version": 3
   },
   "file_extension": ".py",
   "mimetype": "text/x-python",
   "name": "python",
   "nbconvert_exporter": "python",
   "pygments_lexer": "ipython3",
   "version": "3.10.6"
  }
 },
 "nbformat": 4,
 "nbformat_minor": 5
}
