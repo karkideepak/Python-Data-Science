{
 "cells": [
  {
   "cell_type": "code",
   "execution_count": 42,
   "id": "52795658-20fb-4956-ac06-abf39b399a60",
   "metadata": {},
   "outputs": [
    {
     "name": "stdout",
     "output_type": "stream",
     "text": [
      "Not allowed\n",
      "move on\n",
      "Millennial\n"
     ]
    }
   ],
   "source": [
    "# Module 3:\n",
    "# Conditions and branching\n",
    "# loops\n",
    "# Functions\n",
    "# Objects and Classes\n",
    "\n",
    "# The elif statement\n",
    "# Comparison operators\n",
    "# a == 7, a == 6, equality test\n",
    "i = [1,2,3,4,5]\n",
    "i = 5\n",
    "i != 5\n",
    "\"abc\" == \"ABC\"\n",
    "\n",
    "# the if statement\n",
    "age = 12\n",
    "if age > 18:\n",
    "    print(\"Welcome to club\")\n",
    "\n",
    "elif (age == 18):\n",
    "    print(\"Welcome, it's your day\")\n",
    "    \n",
    "else:\n",
    "    print(\"Not allowed\")\n",
    "print(\"move on\")\n",
    "\n",
    "# Logic operators\n",
    "not(True)\n",
    "A = True\n",
    "B = True\n",
    "A or B\n",
    "\n",
    "born_year = 2010\n",
    "if(born_year > 1980 & born_year < 1995): \n",
    "    print(\"Millennial\")\n",
    "elif (born_year < 2024) & (born_year > 1995):\n",
    "    print(\"GenZ\")\n",
    "else:\n",
    "    print(\"GenY or older\")\n",
    "\n",
    "# AND operator is only True if both the condition are true"
   ]
  },
  {
   "cell_type": "code",
   "execution_count": null,
   "id": "550f60df-29ce-43bb-98f7-b1ca52fa8190",
   "metadata": {},
   "outputs": [],
   "source": [
    "# Question 1\n",
    "i!=0\n",
    "\n",
    "# Question 2\n",
    "x = 'a'\n",
    "if('x!'='a'):\n",
    "    print(\"this is not a.\")\n",
    "else:\n",
    "    print(\"this is a.\")"
   ]
  }
 ],
 "metadata": {
  "kernelspec": {
   "display_name": "Python 3 (ipykernel)",
   "language": "python",
   "name": "python3"
  },
  "language_info": {
   "codemirror_mode": {
    "name": "ipython",
    "version": 3
   },
   "file_extension": ".py",
   "mimetype": "text/x-python",
   "name": "python",
   "nbconvert_exporter": "python",
   "pygments_lexer": "ipython3",
   "version": "3.10.6"
  }
 },
 "nbformat": 4,
 "nbformat_minor": 5
}
